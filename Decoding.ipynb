{
 "cells": [
  {
   "attachments": {},
   "cell_type": "markdown",
   "id": "72ef8709",
   "metadata": {},
   "source": [
    "# MSDS Thesis\n",
    "## Data Analysis in Python for olfactoneuroimaging data\n",
    "\n",
    "Apoorv Saraogee MSDS 599 - Dr. Srinivasan"
   ]
  },
  {
   "cell_type": "code",
   "execution_count": 14,
   "id": "0c2af86e",
   "metadata": {
    "tags": []
   },
   "outputs": [],
   "source": [
    "import pandas as pd\n",
    "import numpy as np\n",
    "\n",
    "import visualkeras\n",
    "from sklearn.preprocessing import LabelEncoder\n",
    "from sklearn.model_selection import train_test_split\n",
    "import numpy as np\n",
    "from sklearn.model_selection import train_test_split\n",
    "from keras.models import Sequential\n",
    "from keras.layers import Conv3D, MaxPooling3D, Flatten, GlobalAveragePooling3D, Lambda, Dense, TimeDistributed, LSTM, Permute, Reshape, Dropout, BatchNormalization\n",
    "from keras.optimizers import Adam\n",
    "from keras.callbacks import ReduceLROnPlateau, EarlyStopping\n",
    "from sklearn.metrics import classification_report\n",
    "from keras.regularizers import l2"
   ]
  },
  {
   "attachments": {},
   "cell_type": "markdown",
   "id": "76236da9",
   "metadata": {},
   "source": [
    "## Setup of model and variables"
   ]
  },
  {
   "cell_type": "code",
   "execution_count": 3,
   "id": "397d941a",
   "metadata": {},
   "outputs": [
    {
     "name": "stdout",
     "output_type": "stream",
     "text": [
      "Loaded DataFrame from filtered_events.pkl:\n",
      "  subject run_modality  onset  dicom_start  dicom_end   smell response_type   \n",
      "0  sub-13       run-02    4.2            3         19  orange      positive  \\\n",
      "1  sub-13       run-02  153.0          102        118  orange      positive   \n",
      "2  sub-13       run-02  269.7          180        196  orange      positive   \n",
      "3  sub-13       run-02  383.7          256        272  orange      positive   \n",
      "4  sub-13       run-02  507.5          338        354  orange      positive   \n",
      "\n",
      "                       idno                                               data  \n",
      "0    sub-13_run-02_3_orange  [[[[ 0. -0.  0.  0. -0.  0.  0.  0.  0.  0. -0...  \n",
      "1  sub-13_run-02_102_orange  [[[[ 0.  0. -0. -0. -0.  0. -0. -0.  0.  0. -0...  \n",
      "2  sub-13_run-02_180_orange  [[[[ 0.  0. -0. -0. -0.  0.  0. -0.  0. -0.  0...  \n",
      "3  sub-13_run-02_256_orange  [[[[ 0. -0. -0.  0.  0. -0. -0.  0. -0. -0. -0...  \n",
      "4  sub-13_run-02_338_orange  [[[[ 0. -0. -0. -0.  0. -0. -0.  0.  0.  0. -0...  \n"
     ]
    }
   ],
   "source": [
    "# Load the filtered DataFrame from the pickle file\n",
    "input_pickle_file = 'filtered_events.pkl'\n",
    "filtered_combined_df = pd.read_pickle(input_pickle_file)\n",
    "\n",
    "# Print the DataFrame to verify its contents\n",
    "print(f\"Loaded DataFrame from {input_pickle_file}:\")\n",
    "print(filtered_combined_df.head())\n"
   ]
  },
  {
   "cell_type": "code",
   "execution_count": 4,
   "id": "21404a20",
   "metadata": {},
   "outputs": [
    {
     "name": "stdout",
     "output_type": "stream",
     "text": [
      "  response_type  label\n",
      "0      positive      1\n",
      "1      positive      1\n",
      "2      positive      1\n",
      "3      positive      1\n",
      "4      positive      1\n",
      "Data shape: (806, 110, 104, 27, 16)\n",
      "Labels shape: (806,)\n",
      "Type of data array: <class 'numpy.ndarray'>\n",
      "Data array dtype: float32\n"
     ]
    }
   ],
   "source": [
    "# Create a LabelEncoder instance\n",
    "label_encoder = LabelEncoder()\n",
    "\n",
    "# Fit and transform the 'response_type' column\n",
    "filtered_combined_df['label'] = label_encoder.fit_transform(filtered_combined_df['response_type'])\n",
    "\n",
    "# Verify the transformation\n",
    "print(filtered_combined_df[['response_type', 'label']].head())\n",
    "\n",
    "# Extract data and labels\n",
    "X = np.stack(filtered_combined_df['data'].values)  # Stack the arrays to create a 5D array\n",
    "y = filtered_combined_df['label'].values  # Numeric labels\n",
    "\n",
    "print(f\"Data shape: {X.shape}\")\n",
    "print(f\"Labels shape: {y.shape}\")\n",
    "print(\"Type of data array:\", type(X))\n",
    "print(\"Data array dtype:\", X.dtype)"
   ]
  },
  {
   "cell_type": "code",
   "execution_count": 15,
   "id": "a871f8d2",
   "metadata": {},
   "outputs": [
    {
     "name": "stdout",
     "output_type": "stream",
     "text": [
      "Model: \"sequential_4\"\n",
      "_________________________________________________________________\n",
      " Layer (type)                Output Shape              Param #   \n",
      "=================================================================\n",
      " permute_7 (Permute)         (None, 16, 110, 104, 27)  0         \n",
      "                                                                 \n",
      " lambda_3 (Lambda)           (None, 16, 110, 104, 27,  0         \n",
      "                              1)                                 \n",
      "                                                                 \n",
      " time_distributed_28 (TimeDi  (None, 16, 110, 104, 27,  4032     \n",
      " stributed)                   32)                                \n",
      "                                                                 \n",
      " time_distributed_29 (TimeDi  (None, 16, 55, 52, 13, 3  0        \n",
      " stributed)                  2)                                  \n",
      "                                                                 \n",
      " time_distributed_30 (TimeDi  (None, 16, 51, 48, 9, 48  192048   \n",
      " stributed)                  )                                   \n",
      "                                                                 \n",
      " time_distributed_31 (TimeDi  (None, 16, 25, 24, 4, 48  0        \n",
      " stributed)                  )                                   \n",
      "                                                                 \n",
      " time_distributed_32 (TimeDi  (None, 16, 48)           0         \n",
      " stributed)                                                      \n",
      "                                                                 \n",
      " lstm_4 (LSTM)               (None, 64)                28928     \n",
      "                                                                 \n",
      " dense_8 (Dense)             (None, 24)                1560      \n",
      "                                                                 \n",
      " dense_9 (Dense)             (None, 1)                 25        \n",
      "                                                                 \n",
      "=================================================================\n",
      "Total params: 226,593\n",
      "Trainable params: 226,593\n",
      "Non-trainable params: 0\n",
      "_________________________________________________________________\n"
     ]
    },
    {
     "name": "stderr",
     "output_type": "stream",
     "text": [
      "2024-09-18 03:24:50.168019: I tensorflow/core/common_runtime/executor.cc:1197] [/device:CPU:0] (DEBUG INFO) Executor start aborting (this does not indicate an error and you can ignore this message): INVALID_ARGUMENT: You must feed a value for placeholder tensor 'gradients/split_2_grad/concat/split_2/split_dim' with dtype int32\n",
      "\t [[{{node gradients/split_2_grad/concat/split_2/split_dim}}]]\n",
      "2024-09-18 03:24:50.170798: I tensorflow/core/common_runtime/executor.cc:1197] [/device:CPU:0] (DEBUG INFO) Executor start aborting (this does not indicate an error and you can ignore this message): INVALID_ARGUMENT: You must feed a value for placeholder tensor 'gradients/split_grad/concat/split/split_dim' with dtype int32\n",
      "\t [[{{node gradients/split_grad/concat/split/split_dim}}]]\n",
      "2024-09-18 03:24:50.173309: I tensorflow/core/common_runtime/executor.cc:1197] [/device:CPU:0] (DEBUG INFO) Executor start aborting (this does not indicate an error and you can ignore this message): INVALID_ARGUMENT: You must feed a value for placeholder tensor 'gradients/split_1_grad/concat/split_1/split_dim' with dtype int32\n",
      "\t [[{{node gradients/split_1_grad/concat/split_1/split_dim}}]]\n"
     ]
    }
   ],
   "source": [
    "model = Sequential([\n",
    "    # Permute dimensions to have time as the first dimension for TimeDistributed\n",
    "    Permute((4, 1, 2, 3), input_shape=(110, 104, 27, 16)),  # Shape becomes (16, 110, 104, 27)\n",
    "    \n",
    "    # Add a channel dimension (e.g., 1 channel)\n",
    "    Lambda(lambda x: tf.expand_dims(x, -1)),  # Adds a channel dimension, shape becomes (16, 110, 104, 27, 1)\n",
    "    \n",
    "    # Apply Conv3D to each time slice independently using TimeDistributed\n",
    "    TimeDistributed(Conv3D(32, (5, 5, 5), activation='relu', padding='same', kernel_regularizer=l2(0.001))),\n",
    "    TimeDistributed(MaxPooling3D(pool_size=(2, 2, 2), strides=2)),\n",
    "    \n",
    "    TimeDistributed(Conv3D(48, (5, 5, 5), activation='relu', padding='valid', kernel_regularizer=l2(0.001))),\n",
    "    TimeDistributed(MaxPooling3D(pool_size=(2, 2, 2), strides=2)),\n",
    "    \n",
    "    # Apply global average pooling to reduce spatial dimensions before LSTM\n",
    "    TimeDistributed(GlobalAveragePooling3D()),  # Removes channel dependency, reduces spatial dimensions\n",
    "    \n",
    "    # Apply LSTM to handle the temporal dimension\n",
    "    LSTM(64, return_sequences=False, kernel_regularizer=l2(0.001)),\n",
    "    \n",
    "    # Final Dense layers for classification\n",
    "    Dense(24, activation='relu', kernel_regularizer=l2(0.001)),\n",
    "    Dense(1, activation='sigmoid')  # Binary classification output\n",
    "])\n",
    "\n",
    "# Compile the model\n",
    "model.compile(optimizer='adam', \n",
    "              loss='binary_crossentropy',  # Binary classification\n",
    "              metrics=['accuracy'])\n",
    "\n",
    "# Model summary\n",
    "model.summary()"
   ]
  },
  {
   "cell_type": "code",
   "execution_count": 16,
   "id": "392faeaf",
   "metadata": {},
   "outputs": [
    {
     "data": {
      "image/png": "[encoded data removed]",
      "text/plain": [
       "<PIL.Image.Image image mode=RGBA size=2366x462>"
      ]
     },
     "execution_count": 16,
     "metadata": {},
     "output_type": "execute_result"
    }
   ],
   "source": [
    "visualkeras.layered_view(model)"
   ]
  },
  {
   "attachments": {},
   "cell_type": "markdown",
   "id": "38337d57",
   "metadata": {},
   "source": [
    "## Modeling"
   ]
  },
  {
   "cell_type": "code",
   "execution_count": 17,
   "id": "fc16bb60",
   "metadata": {},
   "outputs": [],
   "source": [
    "# Assume X and y are your full dataset and labels\n",
    "# Example data shapes:\n",
    "# X.shape = (806, 110, 104, 27, 16)\n",
    "# y.shape = (806, )\n",
    "\n",
    "# Split the data into training and holdout sets\n",
    "X_train, X_holdout, y_train, y_holdout = train_test_split(X, y, test_size=0.2, random_state=42)"
   ]
  },
  {
   "cell_type": "code",
   "execution_count": 18,
   "id": "d759692f",
   "metadata": {},
   "outputs": [
    {
     "name": "stdout",
     "output_type": "stream",
     "text": [
      "Epoch 1/20\n"
     ]
    },
    {
     "name": "stderr",
     "output_type": "stream",
     "text": [
      "2024-09-18 03:29:21.077860: I tensorflow/core/common_runtime/executor.cc:1197] [/device:CPU:0] (DEBUG INFO) Executor start aborting (this does not indicate an error and you can ignore this message): INVALID_ARGUMENT: You must feed a value for placeholder tensor 'gradients/split_2_grad/concat/split_2/split_dim' with dtype int32\n",
      "\t [[{{node gradients/split_2_grad/concat/split_2/split_dim}}]]\n",
      "2024-09-18 03:29:21.083167: I tensorflow/core/common_runtime/executor.cc:1197] [/device:CPU:0] (DEBUG INFO) Executor start aborting (this does not indicate an error and you can ignore this message): INVALID_ARGUMENT: You must feed a value for placeholder tensor 'gradients/split_grad/concat/split/split_dim' with dtype int32\n",
      "\t [[{{node gradients/split_grad/concat/split/split_dim}}]]\n",
      "2024-09-18 03:29:21.087883: I tensorflow/core/common_runtime/executor.cc:1197] [/device:CPU:0] (DEBUG INFO) Executor start aborting (this does not indicate an error and you can ignore this message): INVALID_ARGUMENT: You must feed a value for placeholder tensor 'gradients/split_1_grad/concat/split_1/split_dim' with dtype int32\n",
      "\t [[{{node gradients/split_1_grad/concat/split_1/split_dim}}]]\n",
      "2024-09-18 03:29:24.200611: I tensorflow/core/common_runtime/executor.cc:1197] [/device:CPU:0] (DEBUG INFO) Executor start aborting (this does not indicate an error and you can ignore this message): INVALID_ARGUMENT: You must feed a value for placeholder tensor 'gradients/split_2_grad/concat/split_2/split_dim' with dtype int32\n",
      "\t [[{{node gradients/split_2_grad/concat/split_2/split_dim}}]]\n",
      "2024-09-18 03:29:24.205621: I tensorflow/core/common_runtime/executor.cc:1197] [/device:CPU:0] (DEBUG INFO) Executor start aborting (this does not indicate an error and you can ignore this message): INVALID_ARGUMENT: You must feed a value for placeholder tensor 'gradients/split_grad/concat/split/split_dim' with dtype int32\n",
      "\t [[{{node gradients/split_grad/concat/split/split_dim}}]]\n",
      "2024-09-18 03:29:24.210118: I tensorflow/core/common_runtime/executor.cc:1197] [/device:CPU:0] (DEBUG INFO) Executor start aborting (this does not indicate an error and you can ignore this message): INVALID_ARGUMENT: You must feed a value for placeholder tensor 'gradients/split_1_grad/concat/split_1/split_dim' with dtype int32\n",
      "\t [[{{node gradients/split_1_grad/concat/split_1/split_dim}}]]\n"
     ]
    },
    {
     "ename": "",
     "evalue": "",
     "output_type": "error",
     "traceback": [
      "\u001b[1;31mCannot execute code, session has been disposed. Please try restarting the Kernel."
     ]
    },
    {
     "ename": "",
     "evalue": "",
     "output_type": "error",
     "traceback": [
      "\u001b[1;31mThe Kernel crashed while executing code in the the current cell or a previous cell. Please review the code in the cell(s) to identify a possible cause of the failure. Click <a href='https://aka.ms/vscodeJupyterKernelCrash'>here</a> for more info. View Jupyter <a href='command:jupyter.viewOutput'>log</a> for further details."
     ]
    }
   ],
   "source": [
    "# Callbacks for learning rate scheduling and early stopping\n",
    "reduce_lr = ReduceLROnPlateau(monitor='val_loss', factor=0.2, patience=3, min_lr=1e-6, verbose=1)\n",
    "early_stop = EarlyStopping(monitor='val_loss', patience=6, restore_best_weights=True)\n",
    "\n",
    "# Train the model with callbacks\n",
    "history = model.fit(\n",
    "    X_train, y_train,\n",
    "    epochs=20,  # Increased epochs for better convergence\n",
    "    batch_size=8,  # Increased batch size for stable gradients\n",
    "    validation_split=0.2,\n",
    "    callbacks=[reduce_lr, early_stop]\n",
    ")\n"
   ]
  },
  {
   "cell_type": "code",
   "execution_count": null,
   "id": "1dda9de6",
   "metadata": {},
   "outputs": [],
   "source": [
    "# Evaluate the model on the holdout set\n",
    "loss, accuracy = model.evaluate(X_holdout, y_holdout)\n",
    "print(f\"Holdout set loss: {loss:.4f}\")\n",
    "print(f\"Holdout set accuracy: {accuracy:.4f}\")\n",
    "\n",
    "# Predict on the holdout set\n",
    "y_pred = model.predict(X_holdout)\n",
    "\n",
    "# Convert predictions to binary labels (0 or 1)\n",
    "y_pred_binary = (y_pred > 0.5).astype(int)\n",
    "\n",
    "# Print the first few predictions and corresponding true labels\n",
    "print(\"Predictions on holdout set (first 5):\", y_pred_binary[:5].flatten())\n",
    "print(\"True labels on holdout set (first 5):\", y_holdout[:5])\n",
    "\n",
    "# Classification report for additional metrics\n",
    "print(classification_report(y_holdout, y_pred_binary))\n"
   ]
  }
 ],
 "metadata": {
  "kernelspec": {
   "display_name": "Python 3 (ipykernel)",
   "language": "python",
   "name": "python3"
  },
  "language_info": {
   "codemirror_mode": {
    "name": "ipython",
    "version": 3
   },
   "file_extension": ".py",
   "mimetype": "text/x-python",
   "name": "python",
   "nbconvert_exporter": "python",
   "pygments_lexer": "ipython3",
   "version": "3.11.9"
  }
 },
 "nbformat": 4,
 "nbformat_minor": 5
}
