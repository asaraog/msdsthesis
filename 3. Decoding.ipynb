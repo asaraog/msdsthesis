{
 "cells": [
  {
   "attachments": {},
   "cell_type": "markdown",
   "id": "72ef8709",
   "metadata": {},
   "source": [
    "# MSDS Thesis\n",
    "## Data Analysis in Python for olfactoneuroimaging data\n",
    "\n",
    "Apoorv Saraogee MSDS 599 - Dr. Srinivasan"
   ]
  },
  {
   "attachments": {},
   "cell_type": "markdown",
   "id": "76236da9",
   "metadata": {},
   "source": [
    "## Setup of model and variables"
   ]
  },
  {
   "cell_type": "code",
   "execution_count": 23,
   "id": "0c2af86e",
   "metadata": {
    "tags": [],
    "vscode": {
     "languageId": "shellscript"
    }
   },
   "outputs": [],
   "source": [
    "import pandas as pd\n",
    "import numpy as np\n",
    "import tensorflow as tf\n",
    "import visualkeras\n",
    "from sklearn.preprocessing import LabelEncoder\n",
    "from sklearn.model_selection import train_test_split\n",
    "import numpy as np\n",
    "from sklearn.model_selection import train_test_split\n",
    "from keras.models import Sequential\n",
    "from keras.layers import Conv3D, MaxPooling3D, Bidirectional, Flatten, GlobalAveragePooling3D, Lambda, Dense, TimeDistributed, LSTM, Permute, Reshape, Dropout, BatchNormalization, AveragePooling3D\n",
    "from keras.optimizers import Adam\n",
    "from keras.callbacks import ReduceLROnPlateau, EarlyStopping\n",
    "from sklearn.metrics import classification_report\n",
    "from keras.regularizers import l2"
   ]
  },
  {
   "cell_type": "code",
   "execution_count": 24,
   "id": "397d941a",
   "metadata": {
    "vscode": {
     "languageId": "shellscript"
    }
   },
   "outputs": [
    {
     "name": "stdout",
     "output_type": "stream",
     "text": [
      "Loaded DataFrame from filtered_events_simple_smaller.pkl:\n",
      "  subject run_modality  onset  dicom_start  dicom_end   smell response_type   \n",
      "0  sub-13       run-02   33.4           22         38  banana      positive  \\\n",
      "1  sub-13       run-02  211.3          141        157  banana      positive   \n",
      "2  sub-13       run-02  298.3          199        215  banana      positive   \n",
      "3  sub-13       run-02  415.2          277        293  banana      positive   \n",
      "4  sub-13       run-02  476.8          318        334  banana      positive   \n",
      "\n",
      "                       idno                                               data  \n",
      "0   sub-13_run-02_22_banana  [[[[ 0. -0. -0. -0. -0.  0.  0.  0. -0. -0. -0...  \n",
      "1  sub-13_run-02_141_banana  [[[[-0.  0. -0. -0. -0. -0.  0.  0.  0.  0.  0...  \n",
      "2  sub-13_run-02_199_banana  [[[[-0.  0. -0. -0. -0.  0. -0.  0.  0. -0. -0...  \n",
      "3  sub-13_run-02_277_banana  [[[[-0. -0. -0.  0. -0.  0. -0. -0. -0. -0.  0...  \n",
      "4  sub-13_run-02_318_banana  [[[[ 0.  0. -0.  0. -0. -0.  0. -0. -0.  0. -0...  \n"
     ]
    }
   ],
   "source": [
    "# Load the filtered DataFrame from the pickle file\n",
    "input_pickle_file = 'filtered_events_simple_smaller.pkl'\n",
    "filtered_combined_df = pd.read_pickle(input_pickle_file)\n",
    "\n",
    "# Filter out rows where 'subject_id' is 'sub-22' and save in a separate DataFrame\n",
    "sub_22_df = filtered_combined_df[filtered_combined_df['subject'] == 'sub-22']\n",
    "\n",
    "# Remove 'sub-22' rows from the original DataFrame (NAB)\n",
    "filtered_combined_df = filtered_combined_df[filtered_combined_df['subject'] != 'sub-22']\n",
    "\n",
    "# Print the DataFrame to verify its contents\n",
    "print(f\"Loaded DataFrame from {input_pickle_file}:\")\n",
    "print(filtered_combined_df.head())\n"
   ]
  },
  {
   "cell_type": "code",
   "execution_count": 25,
   "id": "21404a20",
   "metadata": {
    "vscode": {
     "languageId": "shellscript"
    }
   },
   "outputs": [
    {
     "name": "stdout",
     "output_type": "stream",
     "text": [
      "  response_type  label\n",
      "0      positive      1\n",
      "1      positive      1\n",
      "2      positive      1\n",
      "3      positive      1\n",
      "4      positive      1\n",
      "Data shape: (405, 110, 104, 27, 16)\n",
      "Labels shape: (405,)\n",
      "Type of data array: <class 'numpy.ndarray'>\n",
      "Data array dtype: float16\n"
     ]
    }
   ],
   "source": [
    "# Create a LabelEncoder instance\n",
    "label_encoder = LabelEncoder()\n",
    "\n",
    "# Fit and transform the 'response_type' column\n",
    "filtered_combined_df['label'] = label_encoder.fit_transform(filtered_combined_df['response_type'])\n",
    "\n",
    "# Verify the transformation\n",
    "print(filtered_combined_df[['response_type', 'label']].head())\n",
    "\n",
    "# Extract data and labels\n",
    "X = np.stack(filtered_combined_df['data'].values)  # Stack the arrays to create a 5D array\n",
    "y = filtered_combined_df['label'].values  # Numeric labels\n",
    "\n",
    "print(f\"Data shape: {X.shape}\")\n",
    "print(f\"Labels shape: {y.shape}\")\n",
    "print(\"Type of data array:\", type(X))\n",
    "print(\"Data array dtype:\", X.dtype)"
   ]
  },
  {
   "cell_type": "code",
   "execution_count": 26,
   "id": "6dc68e2d",
   "metadata": {
    "vscode": {
     "languageId": "shellscript"
    }
   },
   "outputs": [
    {
     "name": "stdout",
     "output_type": "stream",
     "text": [
      "Scaled Data shape: (405, 110, 104, 27, 16)\n",
      "Sample data range after scaling: min -1.0, max 1.0\n"
     ]
    }
   ],
   "source": [
    "# Custom function for scaling each 4D observation independently\n",
    "def min_max_scale_observation(observation):\n",
    "    # Determine the max and min values across the whole observation\n",
    "    max_val = np.max(observation)\n",
    "    min_val = np.min(observation)\n",
    "    \n",
    "    # Scale only if the max and min are not the same (to avoid division by zero)\n",
    "    if max_val != min_val:\n",
    "        observation = 2 * (observation - min_val) / (max_val - min_val) - 1\n",
    "    return observation\n",
    "\n",
    "# Apply scaling to each observation (i.e., each 4D array) independently\n",
    "X_scaled = np.array([min_max_scale_observation(obs) for obs in X])\n",
    "\n",
    "# Verify the transformation\n",
    "print(f\"Scaled Data shape: {X_scaled.shape}\")\n",
    "print(f\"Sample data range after scaling: min {X_scaled.min()}, max {X_scaled.max()}\")"
   ]
  },
  {
   "cell_type": "code",
   "execution_count": 27,
   "id": "a871f8d2",
   "metadata": {
    "vscode": {
     "languageId": "shellscript"
    }
   },
   "outputs": [
    {
     "name": "stderr",
     "output_type": "stream",
     "text": [
      "2024-11-10 16:35:36.911660: I tensorflow/core/common_runtime/executor.cc:1197] [/device:CPU:0] (DEBUG INFO) Executor start aborting (this does not indicate an error and you can ignore this message): INVALID_ARGUMENT: You must feed a value for placeholder tensor 'gradients/split_2_grad/concat/split_2/split_dim' with dtype int32\n",
      "\t [[{{node gradients/split_2_grad/concat/split_2/split_dim}}]]\n",
      "2024-11-10 16:35:36.920252: I tensorflow/core/common_runtime/executor.cc:1197] [/device:CPU:0] (DEBUG INFO) Executor start aborting (this does not indicate an error and you can ignore this message): INVALID_ARGUMENT: You must feed a value for placeholder tensor 'gradients/split_grad/concat/split/split_dim' with dtype int32\n",
      "\t [[{{node gradients/split_grad/concat/split/split_dim}}]]\n",
      "2024-11-10 16:35:36.925718: I tensorflow/core/common_runtime/executor.cc:1197] [/device:CPU:0] (DEBUG INFO) Executor start aborting (this does not indicate an error and you can ignore this message): INVALID_ARGUMENT: You must feed a value for placeholder tensor 'gradients/split_1_grad/concat/split_1/split_dim' with dtype int32\n",
      "\t [[{{node gradients/split_1_grad/concat/split_1/split_dim}}]]\n",
      "2024-11-10 16:35:37.682729: I tensorflow/core/common_runtime/executor.cc:1197] [/device:CPU:0] (DEBUG INFO) Executor start aborting (this does not indicate an error and you can ignore this message): INVALID_ARGUMENT: You must feed a value for placeholder tensor 'gradients/ReverseV2_grad/ReverseV2/ReverseV2/axis' with dtype int32 and shape [1]\n",
      "\t [[{{node gradients/ReverseV2_grad/ReverseV2/ReverseV2/axis}}]]\n",
      "2024-11-10 16:35:37.875896: I tensorflow/core/common_runtime/executor.cc:1197] [/device:CPU:0] (DEBUG INFO) Executor start aborting (this does not indicate an error and you can ignore this message): INVALID_ARGUMENT: You must feed a value for placeholder tensor 'gradients/split_2_grad/concat/split_2/split_dim' with dtype int32\n",
      "\t [[{{node gradients/split_2_grad/concat/split_2/split_dim}}]]\n",
      "2024-11-10 16:35:37.879007: I tensorflow/core/common_runtime/executor.cc:1197] [/device:CPU:0] (DEBUG INFO) Executor start aborting (this does not indicate an error and you can ignore this message): INVALID_ARGUMENT: You must feed a value for placeholder tensor 'gradients/split_grad/concat/split/split_dim' with dtype int32\n",
      "\t [[{{node gradients/split_grad/concat/split/split_dim}}]]\n",
      "2024-11-10 16:35:37.880612: I tensorflow/core/common_runtime/executor.cc:1197] [/device:CPU:0] (DEBUG INFO) Executor start aborting (this does not indicate an error and you can ignore this message): INVALID_ARGUMENT: You must feed a value for placeholder tensor 'gradients/split_1_grad/concat/split_1/split_dim' with dtype int32\n",
      "\t [[{{node gradients/split_1_grad/concat/split_1/split_dim}}]]\n"
     ]
    },
    {
     "name": "stdout",
     "output_type": "stream",
     "text": [
      "Model: \"sequential_2\"\n",
      "_________________________________________________________________\n",
      " Layer (type)                Output Shape              Param #   \n",
      "=================================================================\n",
      " permute_2 (Permute)         (None, 16, 110, 104, 27)  0         \n",
      "                                                                 \n",
      " lambda_2 (Lambda)           (None, 16, 110, 104, 27,  0         \n",
      "                              1)                                 \n",
      "                                                                 \n",
      " time_distributed_15 (TimeDi  (None, 16, 110, 104, 27,  896      \n",
      " stributed)                   32)                                \n",
      "                                                                 \n",
      " time_distributed_16 (TimeDi  (None, 16, 110, 104, 27,  128      \n",
      " stributed)                   32)                                \n",
      "                                                                 \n",
      " time_distributed_17 (TimeDi  (None, 16, 55, 52, 13, 3  0        \n",
      " stributed)                  2)                                  \n",
      "                                                                 \n",
      " time_distributed_18 (TimeDi  (None, 16, 53, 50, 11, 4  41520    \n",
      " stributed)                  8)                                  \n",
      "                                                                 \n",
      " time_distributed_19 (TimeDi  (None, 16, 53, 50, 11, 4  192      \n",
      " stributed)                  8)                                  \n",
      "                                                                 \n",
      " time_distributed_20 (TimeDi  (None, 16, 26, 25, 5, 48  0        \n",
      " stributed)                  )                                   \n",
      "                                                                 \n",
      " time_distributed_21 (TimeDi  (None, 16, 48)           0         \n",
      " stributed)                                                      \n",
      "                                                                 \n",
      " bidirectional_1 (Bidirectio  (None, 256)              181248    \n",
      " nal)                                                            \n",
      "                                                                 \n",
      " dropout_4 (Dropout)         (None, 256)               0         \n",
      "                                                                 \n",
      " dense_4 (Dense)             (None, 24)                6168      \n",
      "                                                                 \n",
      " dropout_5 (Dropout)         (None, 24)                0         \n",
      "                                                                 \n",
      " dense_5 (Dense)             (None, 1)                 25        \n",
      "                                                                 \n",
      "=================================================================\n",
      "Total params: 230,177\n",
      "Trainable params: 230,017\n",
      "Non-trainable params: 160\n",
      "_________________________________________________________________\n"
     ]
    }
   ],
   "source": [
    "model = Sequential([\n",
    "    # Permute dimensions to have time as the first dimension for TimeDistributed\n",
    "    Permute((4, 1, 2, 3), input_shape=(110, 104, 27, 16)),  # Shape becomes (16, 110, 104, 27)\n",
    "    \n",
    "    # Add a channel dimension (e.g., 1 channel)\n",
    "    Lambda(lambda x: tf.expand_dims(x, -1)),  # Adds a channel dimension, shape becomes (16, 110, 104, 27, 1)\n",
    "    \n",
    "    # Apply Conv3D to each time slice independently using TimeDistributed\n",
    "    TimeDistributed(Conv3D(32, (3, 3, 3), activation='relu', padding='same', kernel_regularizer=l2(0.0001))),\n",
    "    TimeDistributed(BatchNormalization()),\n",
    "    TimeDistributed(MaxPooling3D(pool_size=(2, 2, 2), strides=2)),\n",
    "    \n",
    "    TimeDistributed(Conv3D(48, (3, 3, 3), activation='relu', padding='valid', kernel_regularizer=l2(0.0001))),\n",
    "    TimeDistributed(BatchNormalization()),\n",
    "    TimeDistributed(AveragePooling3D(pool_size=(2, 2, 2), strides=2)),\n",
    "     \n",
    "    # Apply global average pooling to reduce spatial dimensions before LSTM\n",
    "    TimeDistributed(GlobalAveragePooling3D()),  # Removes channel dependency, reduces spatial dimensions\n",
    "    \n",
    "    # Apply LSTM to handle the temporal dimension\n",
    "    Bidirectional(LSTM(128, return_sequences=False, kernel_regularizer=l2(0.001))),\n",
    "    \n",
    "    # Final Dense layers for classification\n",
    "    Dropout(0.5),\n",
    "    Dense(24, activation='relu', kernel_regularizer=l2(0.001)),\n",
    "    Dropout(0.5),\n",
    "    Dense(1, activation='sigmoid')  # Binary classification output\n",
    "])\n",
    "\n",
    "# Compile the model\n",
    "model.compile(optimizer='adam', \n",
    "              loss='binary_crossentropy',  # Binary classification\n",
    "              metrics=['accuracy'])\n",
    "\n",
    "# Model summary\n",
    "model.summary()"
   ]
  },
  {
   "cell_type": "code",
   "execution_count": 28,
   "id": "392faeaf",
   "metadata": {
    "vscode": {
     "languageId": "shellscript"
    }
   },
   "outputs": [
    {
     "name": "stderr",
     "output_type": "stream",
     "text": [
      "/usr/local/lib/python3.11/site-packages/visualkeras/layered.py:86: UserWarning: The legend_text_spacing_offset parameter is deprecated and will be removed in a future release.\n",
      "  warnings.warn(\"The legend_text_spacing_offset parameter is deprecated and will be removed in a future release.\")\n"
     ]
    },
    {
     "data": {
      "image/png": "[encoded data removed]",
      "text/plain": [
       "<PIL.Image.Image image mode=RGBA size=3257x462>"
      ]
     },
     "execution_count": 28,
     "metadata": {},
     "output_type": "execute_result"
    }
   ],
   "source": [
    "visualkeras.layered_view(model)"
   ]
  },
  {
   "attachments": {},
   "cell_type": "markdown",
   "id": "38337d57",
   "metadata": {},
   "source": [
    "## Modeling"
   ]
  },
  {
   "cell_type": "code",
   "execution_count": 29,
   "id": "fc16bb60",
   "metadata": {
    "vscode": {
     "languageId": "shellscript"
    }
   },
   "outputs": [],
   "source": [
    "# Assume X and y are your full dataset and labels\n",
    "# Example data shapes:\n",
    "# X.shape = (806, 110, 104, 27, 16)\n",
    "# y.shape = (806, )\n",
    "\n",
    "# Split the data into training and holdout sets\n",
    "X_train, X_holdout, y_train, y_holdout = train_test_split(X, y, test_size=0.2, random_state=42)"
   ]
  },
  {
   "cell_type": "code",
   "execution_count": 30,
   "id": "d759692f",
   "metadata": {
    "vscode": {
     "languageId": "shellscript"
    }
   },
   "outputs": [
    {
     "name": "stdout",
     "output_type": "stream",
     "text": [
      "Epoch 1/20\n"
     ]
    },
    {
     "name": "stderr",
     "output_type": "stream",
     "text": [
      "2024-11-10 16:36:22.916184: I tensorflow/core/common_runtime/executor.cc:1197] [/device:CPU:0] (DEBUG INFO) Executor start aborting (this does not indicate an error and you can ignore this message): INVALID_ARGUMENT: You must feed a value for placeholder tensor 'gradients/split_2_grad/concat/split_2/split_dim' with dtype int32\n",
      "\t [[{{node gradients/split_2_grad/concat/split_2/split_dim}}]]\n",
      "2024-11-10 16:36:22.923547: I tensorflow/core/common_runtime/executor.cc:1197] [/device:CPU:0] (DEBUG INFO) Executor start aborting (this does not indicate an error and you can ignore this message): INVALID_ARGUMENT: You must feed a value for placeholder tensor 'gradients/split_grad/concat/split/split_dim' with dtype int32\n",
      "\t [[{{node gradients/split_grad/concat/split/split_dim}}]]\n",
      "2024-11-10 16:36:22.927690: I tensorflow/core/common_runtime/executor.cc:1197] [/device:CPU:0] (DEBUG INFO) Executor start aborting (this does not indicate an error and you can ignore this message): INVALID_ARGUMENT: You must feed a value for placeholder tensor 'gradients/split_1_grad/concat/split_1/split_dim' with dtype int32\n",
      "\t [[{{node gradients/split_1_grad/concat/split_1/split_dim}}]]\n",
      "2024-11-10 16:36:23.528203: I tensorflow/core/common_runtime/executor.cc:1197] [/device:CPU:0] (DEBUG INFO) Executor start aborting (this does not indicate an error and you can ignore this message): INVALID_ARGUMENT: You must feed a value for placeholder tensor 'gradients/ReverseV2_grad/ReverseV2/ReverseV2/axis' with dtype int32 and shape [1]\n",
      "\t [[{{node gradients/ReverseV2_grad/ReverseV2/ReverseV2/axis}}]]\n",
      "2024-11-10 16:36:23.715481: I tensorflow/core/common_runtime/executor.cc:1197] [/device:CPU:0] (DEBUG INFO) Executor start aborting (this does not indicate an error and you can ignore this message): INVALID_ARGUMENT: You must feed a value for placeholder tensor 'gradients/split_2_grad/concat/split_2/split_dim' with dtype int32\n",
      "\t [[{{node gradients/split_2_grad/concat/split_2/split_dim}}]]\n",
      "2024-11-10 16:36:23.719737: I tensorflow/core/common_runtime/executor.cc:1197] [/device:CPU:0] (DEBUG INFO) Executor start aborting (this does not indicate an error and you can ignore this message): INVALID_ARGUMENT: You must feed a value for placeholder tensor 'gradients/split_grad/concat/split/split_dim' with dtype int32\n",
      "\t [[{{node gradients/split_grad/concat/split/split_dim}}]]\n",
      "2024-11-10 16:36:23.724906: I tensorflow/core/common_runtime/executor.cc:1197] [/device:CPU:0] (DEBUG INFO) Executor start aborting (this does not indicate an error and you can ignore this message): INVALID_ARGUMENT: You must feed a value for placeholder tensor 'gradients/split_1_grad/concat/split_1/split_dim' with dtype int32\n",
      "\t [[{{node gradients/split_1_grad/concat/split_1/split_dim}}]]\n",
      "2024-11-10 16:36:25.532331: I tensorflow/core/common_runtime/executor.cc:1197] [/device:CPU:0] (DEBUG INFO) Executor start aborting (this does not indicate an error and you can ignore this message): INVALID_ARGUMENT: You must feed a value for placeholder tensor 'gradients/ReverseV2_grad/ReverseV2/ReverseV2/axis' with dtype int32 and shape [1]\n",
      "\t [[{{node gradients/ReverseV2_grad/ReverseV2/ReverseV2/axis}}]]\n",
      "2024-11-10 16:36:26.741859: I tensorflow/core/common_runtime/executor.cc:1197] [/device:CPU:0] (DEBUG INFO) Executor start aborting (this does not indicate an error and you can ignore this message): INVALID_ARGUMENT: You must feed a value for placeholder tensor 'gradients/split_2_grad/concat/split_2/split_dim' with dtype int32\n",
      "\t [[{{node gradients/split_2_grad/concat/split_2/split_dim}}]]\n",
      "2024-11-10 16:36:26.744253: I tensorflow/core/common_runtime/executor.cc:1197] [/device:CPU:0] (DEBUG INFO) Executor start aborting (this does not indicate an error and you can ignore this message): INVALID_ARGUMENT: You must feed a value for placeholder tensor 'gradients/split_grad/concat/split/split_dim' with dtype int32\n",
      "\t [[{{node gradients/split_grad/concat/split/split_dim}}]]\n",
      "2024-11-10 16:36:26.746427: I tensorflow/core/common_runtime/executor.cc:1197] [/device:CPU:0] (DEBUG INFO) Executor start aborting (this does not indicate an error and you can ignore this message): INVALID_ARGUMENT: You must feed a value for placeholder tensor 'gradients/split_1_grad/concat/split_1/split_dim' with dtype int32\n",
      "\t [[{{node gradients/split_1_grad/concat/split_1/split_dim}}]]\n",
      "2024-11-10 16:36:27.042964: I tensorflow/core/common_runtime/executor.cc:1197] [/device:CPU:0] (DEBUG INFO) Executor start aborting (this does not indicate an error and you can ignore this message): INVALID_ARGUMENT: You must feed a value for placeholder tensor 'gradients/ReverseV2_grad/ReverseV2/ReverseV2/axis' with dtype int32 and shape [1]\n",
      "\t [[{{node gradients/ReverseV2_grad/ReverseV2/ReverseV2/axis}}]]\n",
      "2024-11-10 16:36:27.137828: I tensorflow/core/common_runtime/executor.cc:1197] [/device:CPU:0] (DEBUG INFO) Executor start aborting (this does not indicate an error and you can ignore this message): INVALID_ARGUMENT: You must feed a value for placeholder tensor 'gradients/split_2_grad/concat/split_2/split_dim' with dtype int32\n",
      "\t [[{{node gradients/split_2_grad/concat/split_2/split_dim}}]]\n",
      "2024-11-10 16:36:27.140243: I tensorflow/core/common_runtime/executor.cc:1197] [/device:CPU:0] (DEBUG INFO) Executor start aborting (this does not indicate an error and you can ignore this message): INVALID_ARGUMENT: You must feed a value for placeholder tensor 'gradients/split_grad/concat/split/split_dim' with dtype int32\n",
      "\t [[{{node gradients/split_grad/concat/split/split_dim}}]]\n",
      "2024-11-10 16:36:27.142284: I tensorflow/core/common_runtime/executor.cc:1197] [/device:CPU:0] (DEBUG INFO) Executor start aborting (this does not indicate an error and you can ignore this message): INVALID_ARGUMENT: You must feed a value for placeholder tensor 'gradients/split_1_grad/concat/split_1/split_dim' with dtype int32\n",
      "\t [[{{node gradients/split_1_grad/concat/split_1/split_dim}}]]\n",
      "2024-11-10 16:36:28.110290: I tensorflow/core/common_runtime/executor.cc:1197] [/device:CPU:0] (DEBUG INFO) Executor start aborting (this does not indicate an error and you can ignore this message): INVALID_ARGUMENT: You must feed a value for placeholder tensor 'gradients/ReverseV2_grad/ReverseV2/ReverseV2/axis' with dtype int32 and shape [1]\n",
      "\t [[{{node gradients/ReverseV2_grad/ReverseV2/ReverseV2/axis}}]]\n"
     ]
    },
    {
     "name": "stdout",
     "output_type": "stream",
     "text": [
      "65/65 [==============================] - ETA: 0s - loss: 0.8648 - accuracy: 0.5058 "
     ]
    },
    {
     "name": "stderr",
     "output_type": "stream",
     "text": [
      "2024-11-10 17:40:01.701582: I tensorflow/core/common_runtime/executor.cc:1197] [/device:CPU:0] (DEBUG INFO) Executor start aborting (this does not indicate an error and you can ignore this message): INVALID_ARGUMENT: You must feed a value for placeholder tensor 'gradients/split_2_grad/concat/split_2/split_dim' with dtype int32\n",
      "\t [[{{node gradients/split_2_grad/concat/split_2/split_dim}}]]\n",
      "2024-11-10 17:40:01.705075: I tensorflow/core/common_runtime/executor.cc:1197] [/device:CPU:0] (DEBUG INFO) Executor start aborting (this does not indicate an error and you can ignore this message): INVALID_ARGUMENT: You must feed a value for placeholder tensor 'gradients/split_grad/concat/split/split_dim' with dtype int32\n",
      "\t [[{{node gradients/split_grad/concat/split/split_dim}}]]\n",
      "2024-11-10 17:40:01.706926: I tensorflow/core/common_runtime/executor.cc:1197] [/device:CPU:0] (DEBUG INFO) Executor start aborting (this does not indicate an error and you can ignore this message): INVALID_ARGUMENT: You must feed a value for placeholder tensor 'gradients/split_1_grad/concat/split_1/split_dim' with dtype int32\n",
      "\t [[{{node gradients/split_1_grad/concat/split_1/split_dim}}]]\n",
      "2024-11-10 17:40:02.040719: I tensorflow/core/common_runtime/executor.cc:1197] [/device:CPU:0] (DEBUG INFO) Executor start aborting (this does not indicate an error and you can ignore this message): INVALID_ARGUMENT: You must feed a value for placeholder tensor 'gradients/ReverseV2_grad/ReverseV2/ReverseV2/axis' with dtype int32 and shape [1]\n",
      "\t [[{{node gradients/ReverseV2_grad/ReverseV2/ReverseV2/axis}}]]\n",
      "2024-11-10 17:40:02.133328: I tensorflow/core/common_runtime/executor.cc:1197] [/device:CPU:0] (DEBUG INFO) Executor start aborting (this does not indicate an error and you can ignore this message): INVALID_ARGUMENT: You must feed a value for placeholder tensor 'gradients/split_2_grad/concat/split_2/split_dim' with dtype int32\n",
      "\t [[{{node gradients/split_2_grad/concat/split_2/split_dim}}]]\n",
      "2024-11-10 17:40:02.134992: I tensorflow/core/common_runtime/executor.cc:1197] [/device:CPU:0] (DEBUG INFO) Executor start aborting (this does not indicate an error and you can ignore this message): INVALID_ARGUMENT: You must feed a value for placeholder tensor 'gradients/split_grad/concat/split/split_dim' with dtype int32\n",
      "\t [[{{node gradients/split_grad/concat/split/split_dim}}]]\n",
      "2024-11-10 17:40:02.137093: I tensorflow/core/common_runtime/executor.cc:1197] [/device:CPU:0] (DEBUG INFO) Executor start aborting (this does not indicate an error and you can ignore this message): INVALID_ARGUMENT: You must feed a value for placeholder tensor 'gradients/split_1_grad/concat/split_1/split_dim' with dtype int32\n",
      "\t [[{{node gradients/split_1_grad/concat/split_1/split_dim}}]]\n"
     ]
    },
    {
     "name": "stdout",
     "output_type": "stream",
     "text": [
      "65/65 [==============================] - 3881s 59s/step - loss: 0.8648 - accuracy: 0.5058 - val_loss: 0.8042 - val_accuracy: 0.5846 - lr: 0.0010\n",
      "Epoch 2/20\n",
      "65/65 [==============================] - 3890s 60s/step - loss: 0.8066 - accuracy: 0.4942 - val_loss: 0.7783 - val_accuracy: 0.5692 - lr: 0.0010\n",
      "Epoch 3/20\n",
      "65/65 [==============================] - 3736s 57s/step - loss: 0.7779 - accuracy: 0.5174 - val_loss: 0.7865 - val_accuracy: 0.4769 - lr: 0.0010\n",
      "Epoch 4/20\n",
      "65/65 [==============================] - 3476s 53s/step - loss: 0.7774 - accuracy: 0.5483 - val_loss: 0.7561 - val_accuracy: 0.5692 - lr: 0.0010\n",
      "Epoch 5/20\n",
      "65/65 [==============================] - 3560s 55s/step - loss: 0.7569 - accuracy: 0.5521 - val_loss: 0.7663 - val_accuracy: 0.4308 - lr: 0.0010\n",
      "Epoch 6/20\n",
      "65/65 [==============================] - 3741s 57s/step - loss: 0.7653 - accuracy: 0.5444 - val_loss: 0.7701 - val_accuracy: 0.4615 - lr: 0.0010\n",
      "Epoch 7/20\n",
      "65/65 [==============================] - ETA: 0s - loss: 0.7442 - accuracy: 0.5676  \n",
      "Epoch 7: ReduceLROnPlateau reducing learning rate to 0.00020000000949949026.\n",
      "65/65 [==============================] - 4506s 70s/step - loss: 0.7442 - accuracy: 0.5676 - val_loss: 0.8707 - val_accuracy: 0.4769 - lr: 0.0010\n",
      "Epoch 8/20\n",
      "65/65 [==============================] - 4746s 73s/step - loss: 0.7377 - accuracy: 0.5714 - val_loss: 0.8119 - val_accuracy: 0.4769 - lr: 2.0000e-04\n",
      "Epoch 9/20\n",
      "65/65 [==============================] - 4312s 66s/step - loss: 0.7418 - accuracy: 0.5290 - val_loss: 0.7880 - val_accuracy: 0.4462 - lr: 2.0000e-04\n",
      "Epoch 10/20\n",
      "65/65 [==============================] - ETA: 0s - loss: 0.7336 - accuracy: 0.6062  \n",
      "Epoch 10: ReduceLROnPlateau reducing learning rate to 4.0000001899898055e-05.\n",
      "65/65 [==============================] - 6595s 101s/step - loss: 0.7336 - accuracy: 0.6062 - val_loss: 0.7798 - val_accuracy: 0.4769 - lr: 2.0000e-04\n"
     ]
    }
   ],
   "source": [
    "# Callbacks for learning rate scheduling and early stopping\n",
    "reduce_lr = ReduceLROnPlateau(monitor='val_loss', factor=0.2, patience=3, min_lr=1e-6, verbose=1)\n",
    "early_stop = EarlyStopping(monitor='val_loss', patience=6, restore_best_weights=True)\n",
    "\n",
    "# Train the model with callbacks\n",
    "history = model.fit(\n",
    "    X_train, y_train,\n",
    "    epochs=20,  # Increased epochs for better convergence\n",
    "    batch_size=4,  # Increased batch size for stable gradients\n",
    "    validation_split=0.2,\n",
    "    callbacks=[reduce_lr, early_stop]\n",
    ")\n"
   ]
  },
  {
   "cell_type": "code",
   "execution_count": 31,
   "id": "adb80a5d",
   "metadata": {
    "vscode": {
     "languageId": "shellscript"
    }
   },
   "outputs": [
    {
     "data": {
      "image/png": "[encoded data removed]",
      "text/plain": [
       "<Figure size 1000x600 with 1 Axes>"
      ]
     },
     "metadata": {},
     "output_type": "display_data"
    }
   ],
   "source": [
    "import matplotlib.pyplot as plt\n",
    "\n",
    "# Extract the validation accuracy from history\n",
    "val_accuracy = history.history['val_loss']\n",
    "\n",
    "# Determine the number of epochs\n",
    "epochs = range(1, len(val_accuracy) + 1)\n",
    "\n",
    "# Plotting validation accuracy\n",
    "plt.figure(figsize=(10, 6))\n",
    "plt.plot(epochs, val_accuracy, 'b', label='Validation Loss')\n",
    "plt.title('Validation Loss Over Time')\n",
    "plt.xlabel('Epochs')\n",
    "plt.ylabel('Accuracy')\n",
    "plt.legend()\n",
    "plt.grid(True)\n",
    "plt.show()\n"
   ]
  },
  {
   "cell_type": "code",
   "execution_count": 32,
   "id": "1dda9de6",
   "metadata": {
    "vscode": {
     "languageId": "shellscript"
    }
   },
   "outputs": [],
   "source": [
    "# Evaluate the model on the holdout set\n",
    "loss, accuracy = model.evaluate(X_holdout, y_holdout)\n",
    "print(f\"Holdout set loss: {loss:.4f}\")\n",
    "print(f\"Holdout set accuracy: {accuracy:.4f}\")\n",
    "\n",
    "# Predict on the holdout set\n",
    "y_pred = model.predict(X_holdout)\n",
    "\n",
    "# Convert predictions to binary labels (0 or 1)\n",
    "y_pred_binary = (y_pred > 0.5).astype(int)\n",
    "\n",
    "# Print the first few predictions and corresponding true labels\n",
    "print(\"Predictions on holdout set (first 5):\", y_pred_binary[:5].flatten())\n",
    "print(\"True labels on holdout set (first 5):\", y_holdout[:5])\n",
    "\n",
    "# Classification report for additional metrics\n",
    "print(classification_report(y_holdout, y_pred_binary))\n"
   ]
  }
 ],
 "metadata": {
  "kernelspec": {
   "display_name": "Bash",
   "language": "bash",
   "name": "bash"
  },
  "language_info": {
   "codemirror_mode": {
    "name": "ipython",
    "version": 3
   },
   "file_extension": ".py",
   "mimetype": "text/x-python",
   "name": "bash",
   "nbconvert_exporter": "python",
   "pygments_lexer": "ipython3",
   "version": "3.11.9"
  }
 },
 "nbformat": 4,
 "nbformat_minor": 5
}
